{
 "cells": [
  {
   "cell_type": "markdown",
   "metadata": {},
   "source": [
    "# HANDWRITTEN DIGIT CLASSIFICATION"
   ]
  },
  {
   "cell_type": "code",
   "execution_count": 1,
   "metadata": {
    "execution": {
     "iopub.execute_input": "2021-11-24T14:34:56.804654Z",
     "iopub.status.busy": "2021-11-24T14:34:56.804099Z",
     "iopub.status.idle": "2021-11-24T14:34:56.988409Z",
     "shell.execute_reply": "2021-11-24T14:34:56.987653Z",
     "shell.execute_reply.started": "2021-11-24T14:34:56.804614Z"
    }
   },
   "outputs": [],
   "source": [
    "#Importing essential Libraries\n",
    "import numpy as np\n",
    "import pandas as pd\n",
    "import matplotlib.pyplot as plt\n",
    "import cv2"
   ]
  },
  {
   "cell_type": "code",
   "execution_count": 2,
   "metadata": {
    "execution": {
     "iopub.execute_input": "2021-11-24T14:25:39.801940Z",
     "iopub.status.busy": "2021-11-24T14:25:39.801659Z",
     "iopub.status.idle": "2021-11-24T14:25:45.059454Z",
     "shell.execute_reply": "2021-11-24T14:25:45.058699Z",
     "shell.execute_reply.started": "2021-11-24T14:25:39.801906Z"
    }
   },
   "outputs": [],
   "source": [
    "data_test=pd.read_csv(\"mnist_test.csv\")\n",
    "data_train=pd.read_csv(\"mnist_train.csv\")"
   ]
  },
  {
   "cell_type": "code",
   "execution_count": 3,
   "metadata": {
    "scrolled": true
   },
   "outputs": [
    {
     "data": {
      "text/html": [
       "<div>\n",
       "<style scoped>\n",
       "    .dataframe tbody tr th:only-of-type {\n",
       "        vertical-align: middle;\n",
       "    }\n",
       "\n",
       "    .dataframe tbody tr th {\n",
       "        vertical-align: top;\n",
       "    }\n",
       "\n",
       "    .dataframe thead th {\n",
       "        text-align: right;\n",
       "    }\n",
       "</style>\n",
       "<table border=\"1\" class=\"dataframe\">\n",
       "  <thead>\n",
       "    <tr style=\"text-align: right;\">\n",
       "      <th></th>\n",
       "      <th>label</th>\n",
       "      <th>1x1</th>\n",
       "      <th>1x2</th>\n",
       "      <th>1x3</th>\n",
       "      <th>1x4</th>\n",
       "      <th>1x5</th>\n",
       "      <th>1x6</th>\n",
       "      <th>1x7</th>\n",
       "      <th>1x8</th>\n",
       "      <th>1x9</th>\n",
       "      <th>...</th>\n",
       "      <th>28x19</th>\n",
       "      <th>28x20</th>\n",
       "      <th>28x21</th>\n",
       "      <th>28x22</th>\n",
       "      <th>28x23</th>\n",
       "      <th>28x24</th>\n",
       "      <th>28x25</th>\n",
       "      <th>28x26</th>\n",
       "      <th>28x27</th>\n",
       "      <th>28x28</th>\n",
       "    </tr>\n",
       "  </thead>\n",
       "  <tbody>\n",
       "    <tr>\n",
       "      <th>0</th>\n",
       "      <td>7</td>\n",
       "      <td>0</td>\n",
       "      <td>0</td>\n",
       "      <td>0</td>\n",
       "      <td>0</td>\n",
       "      <td>0</td>\n",
       "      <td>0</td>\n",
       "      <td>0</td>\n",
       "      <td>0</td>\n",
       "      <td>0</td>\n",
       "      <td>...</td>\n",
       "      <td>0</td>\n",
       "      <td>0</td>\n",
       "      <td>0</td>\n",
       "      <td>0</td>\n",
       "      <td>0</td>\n",
       "      <td>0</td>\n",
       "      <td>0</td>\n",
       "      <td>0</td>\n",
       "      <td>0</td>\n",
       "      <td>0</td>\n",
       "    </tr>\n",
       "    <tr>\n",
       "      <th>1</th>\n",
       "      <td>2</td>\n",
       "      <td>0</td>\n",
       "      <td>0</td>\n",
       "      <td>0</td>\n",
       "      <td>0</td>\n",
       "      <td>0</td>\n",
       "      <td>0</td>\n",
       "      <td>0</td>\n",
       "      <td>0</td>\n",
       "      <td>0</td>\n",
       "      <td>...</td>\n",
       "      <td>0</td>\n",
       "      <td>0</td>\n",
       "      <td>0</td>\n",
       "      <td>0</td>\n",
       "      <td>0</td>\n",
       "      <td>0</td>\n",
       "      <td>0</td>\n",
       "      <td>0</td>\n",
       "      <td>0</td>\n",
       "      <td>0</td>\n",
       "    </tr>\n",
       "    <tr>\n",
       "      <th>2</th>\n",
       "      <td>1</td>\n",
       "      <td>0</td>\n",
       "      <td>0</td>\n",
       "      <td>0</td>\n",
       "      <td>0</td>\n",
       "      <td>0</td>\n",
       "      <td>0</td>\n",
       "      <td>0</td>\n",
       "      <td>0</td>\n",
       "      <td>0</td>\n",
       "      <td>...</td>\n",
       "      <td>0</td>\n",
       "      <td>0</td>\n",
       "      <td>0</td>\n",
       "      <td>0</td>\n",
       "      <td>0</td>\n",
       "      <td>0</td>\n",
       "      <td>0</td>\n",
       "      <td>0</td>\n",
       "      <td>0</td>\n",
       "      <td>0</td>\n",
       "    </tr>\n",
       "    <tr>\n",
       "      <th>3</th>\n",
       "      <td>0</td>\n",
       "      <td>0</td>\n",
       "      <td>0</td>\n",
       "      <td>0</td>\n",
       "      <td>0</td>\n",
       "      <td>0</td>\n",
       "      <td>0</td>\n",
       "      <td>0</td>\n",
       "      <td>0</td>\n",
       "      <td>0</td>\n",
       "      <td>...</td>\n",
       "      <td>0</td>\n",
       "      <td>0</td>\n",
       "      <td>0</td>\n",
       "      <td>0</td>\n",
       "      <td>0</td>\n",
       "      <td>0</td>\n",
       "      <td>0</td>\n",
       "      <td>0</td>\n",
       "      <td>0</td>\n",
       "      <td>0</td>\n",
       "    </tr>\n",
       "    <tr>\n",
       "      <th>4</th>\n",
       "      <td>4</td>\n",
       "      <td>0</td>\n",
       "      <td>0</td>\n",
       "      <td>0</td>\n",
       "      <td>0</td>\n",
       "      <td>0</td>\n",
       "      <td>0</td>\n",
       "      <td>0</td>\n",
       "      <td>0</td>\n",
       "      <td>0</td>\n",
       "      <td>...</td>\n",
       "      <td>0</td>\n",
       "      <td>0</td>\n",
       "      <td>0</td>\n",
       "      <td>0</td>\n",
       "      <td>0</td>\n",
       "      <td>0</td>\n",
       "      <td>0</td>\n",
       "      <td>0</td>\n",
       "      <td>0</td>\n",
       "      <td>0</td>\n",
       "    </tr>\n",
       "  </tbody>\n",
       "</table>\n",
       "<p>5 rows × 785 columns</p>\n",
       "</div>"
      ],
      "text/plain": [
       "   label  1x1  1x2  1x3  1x4  1x5  1x6  1x7  1x8  1x9  ...  28x19  28x20  \\\n",
       "0      7    0    0    0    0    0    0    0    0    0  ...      0      0   \n",
       "1      2    0    0    0    0    0    0    0    0    0  ...      0      0   \n",
       "2      1    0    0    0    0    0    0    0    0    0  ...      0      0   \n",
       "3      0    0    0    0    0    0    0    0    0    0  ...      0      0   \n",
       "4      4    0    0    0    0    0    0    0    0    0  ...      0      0   \n",
       "\n",
       "   28x21  28x22  28x23  28x24  28x25  28x26  28x27  28x28  \n",
       "0      0      0      0      0      0      0      0      0  \n",
       "1      0      0      0      0      0      0      0      0  \n",
       "2      0      0      0      0      0      0      0      0  \n",
       "3      0      0      0      0      0      0      0      0  \n",
       "4      0      0      0      0      0      0      0      0  \n",
       "\n",
       "[5 rows x 785 columns]"
      ]
     },
     "execution_count": 3,
     "metadata": {},
     "output_type": "execute_result"
    }
   ],
   "source": [
    "data_test.head(5)"
   ]
  },
  {
   "cell_type": "code",
   "execution_count": 4,
   "metadata": {
    "execution": {
     "iopub.execute_input": "2021-11-24T14:25:45.061129Z",
     "iopub.status.busy": "2021-11-24T14:25:45.060866Z",
     "iopub.status.idle": "2021-11-24T14:25:45.214832Z",
     "shell.execute_reply": "2021-11-24T14:25:45.213854Z",
     "shell.execute_reply.started": "2021-11-24T14:25:45.061095Z"
    }
   },
   "outputs": [],
   "source": [
    "y_test=np.array(data_test.iloc[:,0:1]) #integer location\n",
    "x_test=np.array(data_test.iloc[:,1:])\n",
    "y_train=np.array(data_train.iloc[:,0:1])\n",
    "x_train=np.array(data_train.iloc[:,1:])"
   ]
  },
  {
   "cell_type": "code",
   "execution_count": 5,
   "metadata": {
    "execution": {
     "iopub.execute_input": "2021-11-24T14:25:45.283659Z",
     "iopub.status.busy": "2021-11-24T14:25:45.283417Z",
     "iopub.status.idle": "2021-11-24T14:25:45.291618Z",
     "shell.execute_reply": "2021-11-24T14:25:45.290819Z",
     "shell.execute_reply.started": "2021-11-24T14:25:45.283626Z"
    }
   },
   "outputs": [
    {
     "data": {
      "text/plain": [
       "(60000, 784)"
      ]
     },
     "execution_count": 5,
     "metadata": {},
     "output_type": "execute_result"
    }
   ],
   "source": [
    "x_train.shape"
   ]
  },
  {
   "cell_type": "code",
   "execution_count": 6,
   "metadata": {},
   "outputs": [
    {
     "data": {
      "text/plain": [
       "array([[7],\n",
       "       [2],\n",
       "       [1],\n",
       "       ...,\n",
       "       [4],\n",
       "       [5],\n",
       "       [6]], dtype=int64)"
      ]
     },
     "execution_count": 6,
     "metadata": {},
     "output_type": "execute_result"
    }
   ],
   "source": [
    "y_test"
   ]
  },
  {
   "cell_type": "code",
   "execution_count": 7,
   "metadata": {},
   "outputs": [
    {
     "data": {
      "text/plain": [
       "array([[0, 0, 0, ..., 0, 0, 0],\n",
       "       [0, 0, 0, ..., 0, 0, 0],\n",
       "       [0, 0, 0, ..., 0, 0, 0],\n",
       "       ...,\n",
       "       [0, 0, 0, ..., 0, 0, 0],\n",
       "       [0, 0, 0, ..., 0, 0, 0],\n",
       "       [0, 0, 0, ..., 0, 0, 0]], dtype=int64)"
      ]
     },
     "execution_count": 7,
     "metadata": {},
     "output_type": "execute_result"
    }
   ],
   "source": [
    "x_test"
   ]
  },
  {
   "cell_type": "code",
   "execution_count": 8,
   "metadata": {
    "execution": {
     "iopub.execute_input": "2021-11-24T14:25:45.216673Z",
     "iopub.status.busy": "2021-11-24T14:25:45.216033Z",
     "iopub.status.idle": "2021-11-24T14:25:45.255176Z",
     "shell.execute_reply": "2021-11-24T14:25:45.254304Z",
     "shell.execute_reply.started": "2021-11-24T14:25:45.216632Z"
    }
   },
   "outputs": [],
   "source": [
    "y_ts=[]\n",
    "for i in range(len(y_test)):\n",
    "    y_ts.append(y_test[i][0])\n",
    "y_trn=[]\n",
    "for i in range(len(y_train)):\n",
    "    y_trn.append(y_train[i][0])"
   ]
  },
  {
   "cell_type": "code",
   "execution_count": 9,
   "metadata": {
    "execution": {
     "iopub.execute_input": "2021-11-24T14:25:45.257702Z",
     "iopub.status.busy": "2021-11-24T14:25:45.257420Z",
     "iopub.status.idle": "2021-11-24T14:25:45.282342Z",
     "shell.execute_reply": "2021-11-24T14:25:45.281691Z",
     "shell.execute_reply.started": "2021-11-24T14:25:45.257667Z"
    }
   },
   "outputs": [],
   "source": [
    "y_ts=np.array(y_ts)\n",
    "y_trn=np.array(y_trn)"
   ]
  },
  {
   "cell_type": "code",
   "execution_count": 10,
   "metadata": {
    "execution": {
     "iopub.execute_input": "2021-11-24T14:25:45.293489Z",
     "iopub.status.busy": "2021-11-24T14:25:45.293064Z",
     "iopub.status.idle": "2021-11-24T14:25:45.308239Z",
     "shell.execute_reply": "2021-11-24T14:25:45.307589Z",
     "shell.execute_reply.started": "2021-11-24T14:25:45.293453Z"
    }
   },
   "outputs": [],
   "source": [
    "x_ts=[]\n",
    "for i in x_test:\n",
    "    x_ts.append(i.reshape(28,28,1))"
   ]
  },
  {
   "cell_type": "code",
   "execution_count": 11,
   "metadata": {
    "execution": {
     "iopub.execute_input": "2021-11-24T14:25:45.309784Z",
     "iopub.status.busy": "2021-11-24T14:25:45.309528Z",
     "iopub.status.idle": "2021-11-24T14:25:45.372263Z",
     "shell.execute_reply": "2021-11-24T14:25:45.371588Z",
     "shell.execute_reply.started": "2021-11-24T14:25:45.309750Z"
    }
   },
   "outputs": [],
   "source": [
    "x_tr=[]\n",
    "for i in x_train:\n",
    "    x_tr.append(i.reshape(28,28,1))"
   ]
  },
  {
   "cell_type": "code",
   "execution_count": 12,
   "metadata": {
    "execution": {
     "iopub.execute_input": "2021-11-24T14:25:45.373575Z",
     "iopub.status.busy": "2021-11-24T14:25:45.373338Z",
     "iopub.status.idle": "2021-11-24T14:25:45.612776Z",
     "shell.execute_reply": "2021-11-24T14:25:45.612034Z",
     "shell.execute_reply.started": "2021-11-24T14:25:45.373544Z"
    }
   },
   "outputs": [],
   "source": [
    "x_ts=np.array(x_ts)\n",
    "x_tr=np.array(x_tr)"
   ]
  },
  {
   "cell_type": "code",
   "execution_count": 13,
   "metadata": {
    "execution": {
     "iopub.execute_input": "2021-11-24T14:25:45.615278Z",
     "iopub.status.busy": "2021-11-24T14:25:45.614899Z",
     "iopub.status.idle": "2021-11-24T14:25:45.710277Z",
     "shell.execute_reply": "2021-11-24T14:25:45.709522Z",
     "shell.execute_reply.started": "2021-11-24T14:25:45.615242Z"
    }
   },
   "outputs": [],
   "source": [
    "x_ts=x_ts.astype(np.float32)\n",
    "x_tr=x_tr.astype(np.float32)"
   ]
  },
  {
   "cell_type": "code",
   "execution_count": 20,
   "metadata": {
    "execution": {
     "iopub.execute_input": "2021-11-24T14:25:45.713376Z",
     "iopub.status.busy": "2021-11-24T14:25:45.712920Z",
     "iopub.status.idle": "2021-11-24T14:25:45.943402Z",
     "shell.execute_reply": "2021-11-24T14:25:45.942722Z",
     "shell.execute_reply.started": "2021-11-24T14:25:45.713338Z"
    }
   },
   "outputs": [
    {
     "data": {
      "text/plain": [
       "<matplotlib.image.AxesImage at 0x23a8a4cef40>"
      ]
     },
     "execution_count": 20,
     "metadata": {},
     "output_type": "execute_result"
    },
    {
     "data": {
      "image/png": "[encoded data removed]",
      "text/plain": [
       "<Figure size 432x288 with 1 Axes>"
      ]
     },
     "metadata": {
      "needs_background": "light"
     },
     "output_type": "display_data"
    }
   ],
   "source": [
    "plt.imshow(x_ts[0])"
   ]
  },
  {
   "cell_type": "code",
   "execution_count": 21,
   "metadata": {
    "execution": {
     "iopub.execute_input": "2021-11-24T14:25:45.945010Z",
     "iopub.status.busy": "2021-11-24T14:25:45.944735Z",
     "iopub.status.idle": "2021-11-24T14:25:45.950095Z",
     "shell.execute_reply": "2021-11-24T14:25:45.949311Z",
     "shell.execute_reply.started": "2021-11-24T14:25:45.944974Z"
    }
   },
   "outputs": [],
   "source": [
    "#import model"
   ]
  },
  {
   "cell_type": "code",
   "execution_count": 22,
   "metadata": {
    "execution": {
     "iopub.execute_input": "2021-11-24T14:25:45.952194Z",
     "iopub.status.busy": "2021-11-24T14:25:45.951620Z",
     "iopub.status.idle": "2021-11-24T14:25:50.669029Z",
     "shell.execute_reply": "2021-11-24T14:25:50.668266Z",
     "shell.execute_reply.started": "2021-11-24T14:25:45.952154Z"
    }
   },
   "outputs": [],
   "source": [
    "from tensorflow.keras.models import Sequential,Model\n",
    "from tensorflow.keras.layers import Conv2D,Conv1D,Dense,Flatten"
   ]
  },
  {
   "cell_type": "code",
   "execution_count": 23,
   "metadata": {
    "execution": {
     "iopub.execute_input": "2021-11-24T14:25:50.670700Z",
     "iopub.status.busy": "2021-11-24T14:25:50.670453Z",
     "iopub.status.idle": "2021-11-24T14:25:52.913447Z",
     "shell.execute_reply": "2021-11-24T14:25:52.912670Z",
     "shell.execute_reply.started": "2021-11-24T14:25:50.670666Z"
    }
   },
   "outputs": [],
   "source": [
    "model=Sequential()\n",
    "model.add(Conv2D(filters=8,kernel_size=(3,3),input_shape=(28,28,1),padding=\"same\", activation=\"relu\"))\n",
    "model.add(Conv2D(filters=10,kernel_size=(28,28), activation=\"relu\"))\n",
    "model.add(Flatten())\n",
    "model.add(Dense(10,activation=\"softmax\"))"
   ]
  },
  {
   "cell_type": "code",
   "execution_count": 24,
   "metadata": {
    "execution": {
     "iopub.execute_input": "2021-11-24T14:26:03.665053Z",
     "iopub.status.busy": "2021-11-24T14:26:03.664732Z",
     "iopub.status.idle": "2021-11-24T14:26:03.684737Z",
     "shell.execute_reply": "2021-11-24T14:26:03.684076Z",
     "shell.execute_reply.started": "2021-11-24T14:26:03.665019Z"
    }
   },
   "outputs": [],
   "source": [
    "model.compile(optimizer='adam',loss='sparse_categorical_crossentropy', metrics=['accuracy'])"
   ]
  },
  {
   "cell_type": "code",
   "execution_count": 25,
   "metadata": {
    "execution": {
     "iopub.execute_input": "2021-11-24T14:26:04.327640Z",
     "iopub.status.busy": "2021-11-24T14:26:04.326810Z",
     "iopub.status.idle": "2021-11-24T14:30:12.583696Z",
     "shell.execute_reply": "2021-11-24T14:30:12.582797Z",
     "shell.execute_reply.started": "2021-11-24T14:26:04.327601Z"
    }
   },
   "outputs": [
    {
     "name": "stdout",
     "output_type": "stream",
     "text": [
      "Epoch 1/10\n",
      "1875/1875 [==============================] - 21s 11ms/step - loss: 2.0711 - accuracy: 0.2052\n",
      "Epoch 2/10\n",
      "1875/1875 [==============================] - 20s 11ms/step - loss: 1.9923 - accuracy: 0.2119\n",
      "Epoch 3/10\n",
      "1875/1875 [==============================] - 20s 11ms/step - loss: 1.4972 - accuracy: 0.4479\n",
      "Epoch 4/10\n",
      "1875/1875 [==============================] - 20s 11ms/step - loss: 0.2840 - accuracy: 0.9418\n",
      "Epoch 5/10\n",
      "1875/1875 [==============================] - 20s 11ms/step - loss: 0.1498 - accuracy: 0.9632\n",
      "Epoch 6/10\n",
      "1875/1875 [==============================] - 20s 11ms/step - loss: 0.1044 - accuracy: 0.9715\n",
      "Epoch 7/10\n",
      "1875/1875 [==============================] - 20s 11ms/step - loss: 0.0832 - accuracy: 0.9758\n",
      "Epoch 8/10\n",
      "1875/1875 [==============================] - 20s 11ms/step - loss: 0.0694 - accuracy: 0.9792\n",
      "Epoch 9/10\n",
      "1875/1875 [==============================] - 20s 11ms/step - loss: 0.0604 - accuracy: 0.9818\n",
      "Epoch 10/10\n",
      "1875/1875 [==============================] - 20s 11ms/step - loss: 0.0532 - accuracy: 0.9840\n"
     ]
    },
    {
     "data": {
      "text/plain": [
       "<keras.callbacks.History at 0x23a8a538520>"
      ]
     },
     "execution_count": 25,
     "metadata": {},
     "output_type": "execute_result"
    }
   ],
   "source": [
    "model.fit(x=x_tr,y=y_trn,epochs=10)"
   ]
  },
  {
   "cell_type": "code",
   "execution_count": 32,
   "metadata": {
    "execution": {
     "iopub.execute_input": "2021-11-24T14:32:33.489233Z",
     "iopub.status.busy": "2021-11-24T14:32:33.488753Z",
     "iopub.status.idle": "2021-11-24T14:32:33.553103Z",
     "shell.execute_reply": "2021-11-24T14:32:33.552383Z",
     "shell.execute_reply.started": "2021-11-24T14:32:33.489195Z"
    }
   },
   "outputs": [
    {
     "name": "stdout",
     "output_type": "stream",
     "text": [
      "1/1 [==============================] - 0s 49ms/step\n"
     ]
    }
   ],
   "source": [
    "prd=model.predict(np.array([x_ts[78]]))"
   ]
  },
  {
   "cell_type": "code",
   "execution_count": 33,
   "metadata": {},
   "outputs": [
    {
     "data": {
      "text/plain": [
       "<matplotlib.image.AxesImage at 0x23a8a94f8e0>"
      ]
     },
     "execution_count": 33,
     "metadata": {},
     "output_type": "execute_result"
    },
    {
     "data": {
      "image/png": "[encoded data removed]",
      "text/plain": [
       "<Figure size 432x288 with 1 Axes>"
      ]
     },
     "metadata": {
      "needs_background": "light"
     },
     "output_type": "display_data"
    }
   ],
   "source": [
    "plt.imshow(x_ts[78])"
   ]
  },
  {
   "cell_type": "code",
   "execution_count": 34,
   "metadata": {
    "execution": {
     "iopub.execute_input": "2021-11-24T14:32:34.504690Z",
     "iopub.status.busy": "2021-11-24T14:32:34.504425Z",
     "iopub.status.idle": "2021-11-24T14:32:34.511989Z",
     "shell.execute_reply": "2021-11-24T14:32:34.511118Z",
     "shell.execute_reply.started": "2021-11-24T14:32:34.504649Z"
    }
   },
   "outputs": [
    {
     "data": {
      "text/plain": [
       "array([[5.50918276e-16, 1.21543526e-04, 7.00162502e-07, 2.62524509e-06,\n",
       "        9.84293401e-01, 5.31187148e-08, 1.22020059e-17, 3.34240287e-03,\n",
       "        3.24645080e-04, 1.19145969e-02]], dtype=float32)"
      ]
     },
     "execution_count": 34,
     "metadata": {},
     "output_type": "execute_result"
    }
   ],
   "source": [
    "prd"
   ]
  },
  {
   "cell_type": "code",
   "execution_count": null,
   "metadata": {},
   "outputs": [],
   "source": []
  },
  {
   "cell_type": "code",
   "execution_count": null,
   "metadata": {},
   "outputs": [],
   "source": []
  }
 ],
 "metadata": {
  "kernelspec": {
   "display_name": "Python 3 (ipykernel)",
   "language": "python",
   "name": "python3"
  },
  "language_info": {
   "codemirror_mode": {
    "name": "ipython",
    "version": 3
   },
   "file_extension": ".py",
   "mimetype": "text/x-python",
   "name": "python",
   "nbconvert_exporter": "python",
   "pygments_lexer": "ipython3",
   "version": "3.9.12"
  }
 },
 "nbformat": 4,
 "nbformat_minor": 4
}
